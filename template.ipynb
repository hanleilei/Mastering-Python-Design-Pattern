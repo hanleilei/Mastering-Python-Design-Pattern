{
 "cells": [
  {
   "cell_type": "markdown",
   "metadata": {},
   "source": [
    "# 模板模式\n",
    "\n",
    "编写优秀代码的一个要素是避免冗余。在面向对象编程中，方法和函数是我们用来避免编写 冗余代码的重要工具。回想第15章中的sorted()例子。sorted()函数非常通用，可使用任意键 来对多种数据结构（列表、元组和命名元组等）进行排序。这是一个良好函数的定义。\n",
    "\n",
    "sorted()这样的函数属于理想的案例。现实中，我们没法始终写出100%通用的代码。许多 算法都有一些（但并非全部）通用步骤。广度优先搜索（Breadth-First Search，BFS）和深度优先 搜索（Depth-First Search，DFS）是其中不错的例子，这两个流行的算法应用于图搜索问题。起 初，我们提出独立实现两个算法（文件graph.py）。函数bfs()和dfs()在start和end之间存在 一条路径时返回一个元组(True, path)；如果路径不存在，则返回(False, path)（此时， path为空）。"
   ]
  },
  {
   "cell_type": "code",
   "execution_count": null,
   "metadata": {
    "collapsed": true
   },
   "outputs": [],
   "source": [
    "def bfs(graph, start, end):\n",
    "    path = []\n",
    "    visited = [start]\n",
    "    while visited:\n",
    "        current = visited.pop(0)\n",
    "        if current not in path:\n",
    "            path.append(current)\n",
    "            if current == end:\n",
    "                print(path)\n",
    "                return (True, path)\n",
    "            # 两个顶点不相连，则跳过\n",
    "            if current not in graph:\n",
    "                continue\n",
    "        visited = visited + graph[current]\n",
    "    return (False, path)"
   ]
  },
  {
   "cell_type": "code",
   "execution_count": null,
   "metadata": {
    "collapsed": true
   },
   "outputs": [],
   "source": [
    "def dfs(graph, start, end):\n",
    "        path = []\n",
    "        visited = [start]\n",
    "        while visited:\n",
    "                current = visited.pop(0)\n",
    "                if current not in path:\n",
    "                        path.append(current)\n",
    "                        if current == end:\n",
    "                                return (True, path)\n",
    "                        # 两个顶点不相连，则跳过\n",
    "                        if current not in graph:\n",
    "                                continue\n",
    "                visited = graph[current] + visited\n",
    "        return (False, path)\n"
   ]
  },
  {
   "cell_type": "markdown",
   "metadata": {},
   "source": [
    "注意两个算法之间的相似点。仅有一处不同（已加粗），其余部分完全相同。稍后我们再回 来讨论这个问题。\n",
    "\n",
    "先使用Wikipedia提供的图（请参考网页[t.cn/RqrBp3p]） 来测试算法。为了简化，假设该图 是有向的。这意味着只能朝一个方向移动，我们可以检测如何从Frankfurt到Mannheim，而不是另 一个方向。\n",
    "\n",
    "可以使用列表的字典结构来表示这个有向图。每个城市是字典中的一个键，列表的内容是从 该城市始发的所有可能H的地。叶子顶点的城市（例如，Erfurt）使用一个空列表即可（无目的地）。"
   ]
  },
  {
   "cell_type": "code",
   "execution_count": null,
   "metadata": {
    "collapsed": true
   },
   "outputs": [],
   "source": [
    "def main():\n",
    "    graph = {\n",
    "        'Frankfurt':  ['Mannheim', 'Wurzburg', 'Kassel'],\n",
    "        'Mannheim':   ['Karlsruhe'],\n",
    "        'Karlsruhe':  ['Augsburg'],\n",
    "        'Augsburg':   ['Munchen'],\n",
    "        'Wurzburg':   ['Erfurt', 'Nurnberg'],\n",
    "        'Nurnberg':   ['Stuttgart', 'Munchen'],\n",
    "        'Kassel':     ['Munchen'],\n",
    "        'Erfurt':     [],\n",
    "        'Stuttgart':  [],\n",
    "        'Munchen':    []\n",
    "        }\n",
    "\n",
    "    bfs_path = bfs(graph, 'Frankfurt', 'Nurnberg')\n",
    "    dfs_path = dfs(graph, 'Frankfurt', 'Nurnberg')\n",
    "    print('bfs Frankfurt-Nurnberg: {}'.format(bfs_path[1] if bfs_path[0] else 'Not found'))\n",
    "    print('dfs Frankfurt-Nurnberg: {}'.format(dfs_path[1] if dfs_path[0] else 'Not found'))\n",
    "\n",
    "    bfs_nopath = bfs(graph, 'Wurzburg', 'Kassel')\n",
    "    print('bfs Wurzburg-Kassel: {}'.format(bfs_nopath[1] if bfs_nopath[0] else 'Not found'))\n",
    "    dfs_nopath = dfs(graph, 'Wurzburg', 'Kassel')\n",
    "    print('dfs Wurzburg-Kassel: {}'.format(dfs_nopath[1] if dfs_nopath[0] else 'Not found'))\n"
   ]
  },
  {
   "cell_type": "markdown",
   "metadata": {},
   "source": [
    "从性质来看，结果并不能表明什么，因为DFS和BFS不能很好地处理加权图（权重完全被忽 略了）。处理加权图更好的算法是（Dijkstra的）最短路径优先算法、Bellman-Ford算法和A*算法 等。然而，我们仍然希望按打算的那样遍历图。我们期望的算法输出是一个城市列表，这些城市 是在搜索从Frankfurt到Nurnberg的路径时访问过的。"
   ]
  },
  {
   "cell_type": "markdown",
   "metadata": {},
   "source": [
    ">> python3 graph.py\n",
    "bfs Frankfurt-Nurnberg: ['Frankfurt', 'Mannheim', 'Wurzburg', 'Kassel', 'Karlsruhe',\n",
    "'Erfurt', 'Nurnberg']\n",
    "dfs Frankfurt-Nurnberg: ['Frankfurt', 'Mannheim', 'Karlsruhe', 'Augsburg', 'Munchen', 'Wurzburg', 'Erfurt', 'Nurnberg']\n",
    "bfs Wurzburg-Kassel: Not found dfs Wurzburg-Kassel: Not found"
   ]
  },
  {
   "cell_type": "markdown",
   "metadata": {},
   "source": [
    "结果看起来没问题。BFS按广度进行遍历，DFS则按深度进行遍历，两个算法都没返回任何 非期望的结果。这样不错，但我们的代码仍然有一个问题，那就是冗余。两个算法之间仅有一处 不同，但其余代码都写了两遍。对于这个问题我们能做点什么吗？\n",
    "\n",
    "是的！这个问题可以通过模板设计模式（Template design pattern）来解决。这个模式关注的 是消除代码冗余，其思想是我们应该尤需改变算法结构就能重新定义一个算法的某些部分。为了 避免重复而进行必要的重构之后，我们来看看代码会变成什么样子（文件graph_template.py）。"
   ]
  },
  {
   "cell_type": "code",
   "execution_count": null,
   "metadata": {
    "collapsed": true
   },
   "outputs": [],
   "source": [
    "def traverse(graph, start, end, action):\n",
    "    path = []\n",
    "    visited = [start]\n",
    "    while visited:\n",
    "        current = visited.pop(0)\n",
    "        if current not in path:\n",
    "            path.append(current)\n",
    "            if current == end:\n",
    "                return (True, path)\n",
    "            # skip vertices with no connections\n",
    "            if current not in graph:\n",
    "                continue\n",
    "            visited = action(visited, graph[current])\n",
    "        return (False, path)\n",
    "\n",
    "def extend_bfs_path(visited, current):\n",
    "    return visited + current\n",
    "\n",
    "def extend_dfs_path(visited, current):\n",
    "    return current + visited\n"
   ]
  },
  {
   "cell_type": "markdown",
   "metadata": {},
   "source": [
    "不再有bfs()和dfs()两个函数，我们将代码重构为使用单个traverse()函数。traverse() 函数实际上是一个模板函数。它接受一个参数action，该参数是一个“知道”如何延伸路径的 函数。根据要使用的算法，我们可以传递extend_bfs_path()或extend_dfs_path()作为目标动作。\n",
    "\n",
    "你也许会争论说，通过在traverse()内部添加一个条件来检测应该使用哪个遍历算法，也能达到相同的结果。下面的代码展示了这个思路（文件graph_template_slower.py）。"
   ]
  },
  {
   "cell_type": "code",
   "execution_count": null,
   "metadata": {
    "collapsed": true
   },
   "outputs": [],
   "source": []
  },
  {
   "cell_type": "code",
   "execution_count": null,
   "metadata": {
    "collapsed": true
   },
   "outputs": [],
   "source": []
  },
  {
   "cell_type": "code",
   "execution_count": null,
   "metadata": {
    "collapsed": true
   },
   "outputs": [],
   "source": []
  },
  {
   "cell_type": "code",
   "execution_count": null,
   "metadata": {
    "collapsed": true
   },
   "outputs": [],
   "source": []
  },
  {
   "cell_type": "code",
   "execution_count": null,
   "metadata": {
    "collapsed": true
   },
   "outputs": [],
   "source": []
  },
  {
   "cell_type": "code",
   "execution_count": null,
   "metadata": {
    "collapsed": true
   },
   "outputs": [],
   "source": []
  },
  {
   "cell_type": "code",
   "execution_count": null,
   "metadata": {
    "collapsed": true
   },
   "outputs": [],
   "source": []
  },
  {
   "cell_type": "code",
   "execution_count": null,
   "metadata": {
    "collapsed": true
   },
   "outputs": [],
   "source": []
  },
  {
   "cell_type": "code",
   "execution_count": null,
   "metadata": {
    "collapsed": true
   },
   "outputs": [],
   "source": []
  },
  {
   "cell_type": "code",
   "execution_count": null,
   "metadata": {
    "collapsed": true
   },
   "outputs": [],
   "source": []
  },
  {
   "cell_type": "code",
   "execution_count": null,
   "metadata": {
    "collapsed": true
   },
   "outputs": [],
   "source": []
  },
  {
   "cell_type": "code",
   "execution_count": null,
   "metadata": {
    "collapsed": true
   },
   "outputs": [],
   "source": []
  },
  {
   "cell_type": "code",
   "execution_count": null,
   "metadata": {
    "collapsed": true
   },
   "outputs": [],
   "source": []
  },
  {
   "cell_type": "code",
   "execution_count": null,
   "metadata": {
    "collapsed": true
   },
   "outputs": [],
   "source": []
  }
 ],
 "metadata": {
  "kernelspec": {
   "display_name": "Python 3",
   "language": "python",
   "name": "python3"
  },
  "language_info": {
   "codemirror_mode": {
    "name": "ipython",
    "version": 3
   },
   "file_extension": ".py",
   "mimetype": "text/x-python",
   "name": "python",
   "nbconvert_exporter": "python",
   "pygments_lexer": "ipython3",
   "version": "3.6.0"
  }
 },
 "nbformat": 4,
 "nbformat_minor": 0
}
