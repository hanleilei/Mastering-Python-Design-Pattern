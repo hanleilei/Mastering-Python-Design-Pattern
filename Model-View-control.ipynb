{
 "cells": [
  {
   "cell_type": "markdown",
   "metadata": {},
   "source": [
    "# 模型－视图－控制器模式\n",
    "\n",
    "关注点分离(Separation of Concerns,SoC)原则是软件工程相关的设计原则之一。SoC原则 背后的思想是将一个应用切分成不同的部分,每个部分解决一个单独的关注点。分层设计中的层 次(数据访问层、业务逻辑层和表示层等)即是关注点的例子。使用SoC原则能简化软件应用的 开发和维护(请参考网页[t.cn/RqrjewK])。\n",
    "\n",
    "模型—视图—控制器(Model-View-Controller,MVC)模式是应用到面向对象编程的Soc原则。 模式的名称来自用来切分软件应用的三个主要部分,即模型部分、视图部分和控制器部分。MVC 被认为是一种架构模式而不是一种设计模式。架构模式与设计模式之间的区别在于前者比后者的 范畴更广。然而,MVC太重要了,不能仅因为这个原因就跳过不说。即使我们从不需要从头实 8 现它,也需要熟悉它,因为所有常见框架都使用了MVC或者是其略微不同的版本(之后会详述)。\n",
    "     \n",
    "模型是核心的部分,代表着应用的信息本源,包含和管理(业务)逻辑、数据、状态以及应 用的规则。视图是模型的可视化表现。视图的例子有,计算机图形用户界面、计算机终端的文本 输出、智能手机的应用图形界面、PDF文档、饼图和柱状图等。视图只是展示数据,并不处理数 据。控制器是模型与视图之间的链接/粘附。模型与视图之间的所有通信都通过控制器进行(请 参考[GOF95,第14页]、网页[t.cn/RqrjF4G] 和网页[t.cn/RPrOUPr])。\n",
    "\n",
    "对于将初始屏幕渲染给用户之后使用MVC的应用,其典型使用方式如下所示：\n",
    "\n",
    "* 用户通过单击(键入、触摸等)某个按钮触发一个视图 \n",
    "* 视图把用户操作告知控制器\n",
    "* 控制器处理用户输入,并与模型交互\n",
    "* 模型执行所有必要的校验和状态改变,并通知控制器应该做什么 \n",
    "* 控制器按照模型给出的指令,指导视图适当地更新和显示输出"
   ]
  },
  {
   "cell_type": "markdown",
   "metadata": {},
   "source": [
    "你可能想知道为什么控制器部分是必要的?我们能跳过它吗?能,但那样我们将失去MVC 提供的一大优势:无需修改模型就能使用多个视图的能力(甚至可以根据需要同时使用多个视 图)。为了实现模型与其表现之间的解耦,每个视图通常都需要属于它的控制器。如果模型直接 与特定视图通信,我们将无法对同一个模型使用多个视图(或者至少无法以简洁模块化的方式实 现)。"
   ]
  },
  {
   "cell_type": "markdown",
   "metadata": {},
   "source": [
    "## 现实生活的例子\n",
    "\n",
    "MVC是应用于面向对象编程的SoC原则。SoC原则在现实生活中的应用有很多。例如,如果 你造一栋新房子,通常会请不同的专业人员来完成以下工作。\n",
    "\n",
    "* 安装管道和电路 \n",
    "* 粉刷房子\n",
    "\n",
    "另一个例子是餐馆。在一个餐馆中,服务员接收点菜单并为顾客上菜,但是饭菜由厨师烹饪 (请参考网页[t.cn/RqrYh1I])。"
   ]
  },
  {
   "cell_type": "markdown",
   "metadata": {},
   "source": [
    "## 软件的例子\n",
    "\n",
    "Web框架web2py(请参考网页[t.cn/RqrYZwy])是一个支持MVC模式的轻量级Python框架。若你还未尝试过web2py,我推荐你试用一下,安装过程极其简单,你要做的就是下载安装包并执 行一个Python文件(web2py.py)。在该项目的网页上有很多例子演示了在web2py中如何使用MVC(请参考网页[t.cn/RqrYADU])。\n",
    "\n",
    "Django也是一个MVC框架,但是它使用了不同的命名约定。在此约定下,控制器被称为视 图,视图被称为模板。Django使用名称模型—模板—视图(Model-Template-View,MTV)来替代 MVC。依据Django的设计者所言,视图是描述哪些数据对用户可见。因此,Django把对应一个特 定URL的Python回调函数称为视图。Django中的“模板”用于把内容与其展现分开,其描述的是 用户看到数据的方式,而不是哪些数据可见(请参考网页[t.cn/RwRJZ87])。"
   ]
  },
  {
   "cell_type": "markdown",
   "metadata": {},
   "source": [
    "## 应用案例\n",
    "\n",
    "MVC是一个非常通用且大有用处的设计模式。实际上,所有流行的Web框架(Django、Rails 和Yii)和应用框架(iPhone SDK、Android和QT)都使用了MVC或者其变种,其变种包括模式— 视图—适配器(Model-View-Adapter,MVA)、模型—视图—演示者(Model-View-Presenter,MVP) 等。然而,即使我们不使用这些框架,凭自己实现这一模式也是有意义的,因为这一模式提供了 以下这些好处。\n",
    "\n",
    "* 视图与模型的分离允许美工一心搞UI部分,程序员一心搞开发,不会相互干扰。\n",
    "* 由于视图与模型之间的松耦合,每个部分可以单独修改/扩展,不会相互影响。例如,添加一个新视图的成本很小,只要为其实现一个控制器就可以了。\n",
    "* 因为职责明晰,维护每个部分也更简单。\n",
    "\n",
    "在从头开始实现MVC时,请确保创建的模型很智能,控制器很瘦,视图很傻瓜(请参考[Zlobin13,第9页])。 \n",
    "\n",
    "可以将具有以下功能的模型视为智能模型。\n",
    "\n",
    "* 包含所有的校验/业务规则/逻辑\n",
    "* 处理应用的状态\n",
    "* 访问应用数据(数据库、云或其他)  \n",
    "* 不依赖UI\n",
    "\n",
    "可以将符合以下条件的控制器视为瘦控制器。\n",
    "\n",
    "* 在用户与视图交互时,更新模型\n",
    "* 在模型改变时,更新视图\n",
    "* 如果需要,在数据传递给模型/视图之前进行处理  不展示数据\n",
    "* 不直接访问应用数据\n",
    "* 不包含校验/业务规则/逻辑\n",
    "\n",
    "可以将符合以下条件的视图视为傻瓜视图。\n",
    "\n",
    "* 展示数据\n",
    "* 允许用户与其交互\n",
    "* 仅做最小的数据处理,通常由一种模板语言提供处理能力(例如,使用简单的变量和循环控制)\n",
    "* 不存储任何数据 \n",
    "* 不直接访问应用数据\n",
    "* 不包含校验/业务规则/逻辑\n",
    "\n",
    "如果你正在从头实现MVC,并且想弄清自己做得对不对,可以尝试回答以下两个关键问题。\n",
    "\n",
    "* 如果你的应用有GUI,那它可以换肤吗?易于改变它的皮肤/外观以及给人的感受吗?可 以为用户提供运行期间改变应用皮肤的能力吗?如果这做起来并不简单,那就意味着你 的MVC实现在某些地方存在问题(请参考网页[t.cn/RqrjF4G])。\n",
    "* 如果你的应用没有GUI(例如,是一个终端应用),为其添加GUI支持有多难?或者,如 果添加GUI没什么用,那么是否易于添加视图从而以图表(饼图、柱状图等)或文档(PDF、 电子表格等)形式展示结果?如果因此而作出的变更不小(小的变更是,在不变更模型 的情况下,创建控制器并绑定到视图),那你的MVC实现就有些不对了。\n",
    "\n",
    "如果你确信这两个条件都已满足,那么与未使用MVC模式的应用相比,你的应用会更灵活、 更好维护。"
   ]
  },
  {
   "cell_type": "markdown",
   "metadata": {},
   "source": [
    "## 实现\n",
    "\n",
    "我可以使用任意常见框架来演示如何使用MVC,但觉得那样的话,读者对MVC的理解会不 完整。因此我决定使用一个非常简单的示例来展示如何从头实现MVC,这个示例是名人名言打 印机。想法极其简单:用户输入一个数字,然后就能看到与这个数字相关的名人名言。名人名言 存储在一个quotes元组中。这种数据通常是存储在数据库、文件或其他地方,只有模型能够直 接访问它。\n",
    "  \n",
    "我们从下面的代码开始考虑这个例子。"
   ]
  },
  {
   "cell_type": "code",
   "execution_count": null,
   "metadata": {
    "collapsed": true
   },
   "outputs": [],
   "source": [
    "quotes = ('A man is not complete until he is married. Then he is finished.',\n",
    "              'As I said before, I never repeat myself.',\n",
    "              'Behind a successful man is an exhausted woman.',\n",
    "              'Black holes really suck...', 'Facts are stubborn things.')"
   ]
  },
  {
   "cell_type": "markdown",
   "metadata": {
    "collapsed": true
   },
   "source": []
  },
  {
   "cell_type": "code",
   "execution_count": null,
   "metadata": {
    "collapsed": true
   },
   "outputs": [],
   "source": [
    "class QuoteModel:\n",
    "    def get_quote(self, n):\n",
    "        try:\n",
    "            value = quotes[n]\n",
    "        except IndexError as err:\n",
    "            value = 'Not found!'\n",
    "        return value"
   ]
  },
  {
   "cell_type": "markdown",
   "metadata": {},
   "source": []
  },
  {
   "cell_type": "code",
   "execution_count": null,
   "metadata": {
    "collapsed": true
   },
   "outputs": [],
   "source": [
    "class QuoteTerminalView:\n",
    "        def show(self, quote):\n",
    "            print('And the quote is: \"{}\"'.format(quote))\n",
    "        def error(self, msg):\n",
    "            print('Error: {}'.format(msg))\n",
    "        def select_quote(self):\n",
    "            return input('Which quote number would you like to see? ')"
   ]
  },
  {
   "cell_type": "markdown",
   "metadata": {},
   "source": []
  },
  {
   "cell_type": "code",
   "execution_count": null,
   "metadata": {
    "collapsed": true
   },
   "outputs": [],
   "source": []
  },
  {
   "cell_type": "code",
   "execution_count": null,
   "metadata": {
    "collapsed": true
   },
   "outputs": [],
   "source": []
  },
  {
   "cell_type": "code",
   "execution_count": null,
   "metadata": {
    "collapsed": true
   },
   "outputs": [],
   "source": []
  },
  {
   "cell_type": "code",
   "execution_count": null,
   "metadata": {
    "collapsed": true
   },
   "outputs": [],
   "source": []
  },
  {
   "cell_type": "code",
   "execution_count": null,
   "metadata": {
    "collapsed": true
   },
   "outputs": [],
   "source": []
  },
  {
   "cell_type": "code",
   "execution_count": null,
   "metadata": {
    "collapsed": true
   },
   "outputs": [],
   "source": []
  },
  {
   "cell_type": "code",
   "execution_count": null,
   "metadata": {
    "collapsed": true
   },
   "outputs": [],
   "source": []
  },
  {
   "cell_type": "code",
   "execution_count": null,
   "metadata": {
    "collapsed": true
   },
   "outputs": [],
   "source": []
  },
  {
   "cell_type": "code",
   "execution_count": null,
   "metadata": {
    "collapsed": true
   },
   "outputs": [],
   "source": []
  },
  {
   "cell_type": "code",
   "execution_count": null,
   "metadata": {
    "collapsed": true
   },
   "outputs": [],
   "source": []
  },
  {
   "cell_type": "code",
   "execution_count": null,
   "metadata": {
    "collapsed": true
   },
   "outputs": [],
   "source": []
  },
  {
   "cell_type": "code",
   "execution_count": null,
   "metadata": {
    "collapsed": true
   },
   "outputs": [],
   "source": []
  },
  {
   "cell_type": "code",
   "execution_count": null,
   "metadata": {
    "collapsed": true
   },
   "outputs": [],
   "source": []
  },
  {
   "cell_type": "code",
   "execution_count": null,
   "metadata": {
    "collapsed": true
   },
   "outputs": [],
   "source": []
  },
  {
   "cell_type": "code",
   "execution_count": null,
   "metadata": {
    "collapsed": true
   },
   "outputs": [],
   "source": []
  },
  {
   "cell_type": "code",
   "execution_count": null,
   "metadata": {
    "collapsed": true
   },
   "outputs": [],
   "source": []
  },
  {
   "cell_type": "code",
   "execution_count": null,
   "metadata": {
    "collapsed": true
   },
   "outputs": [],
   "source": []
  }
 ],
 "metadata": {
  "kernelspec": {
   "display_name": "Python 3",
   "language": "python",
   "name": "python3"
  },
  "language_info": {
   "codemirror_mode": {
    "name": "ipython",
    "version": 3
   },
   "file_extension": ".py",
   "mimetype": "text/x-python",
   "name": "python",
   "nbconvert_exporter": "python",
   "pygments_lexer": "ipython3",
   "version": "3.5.1"
  }
 },
 "nbformat": 4,
 "nbformat_minor": 0
}
