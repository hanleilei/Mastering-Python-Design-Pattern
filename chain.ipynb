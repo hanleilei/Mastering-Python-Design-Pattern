{
 "cells": [
  {
   "cell_type": "markdown",
   "metadata": {},
   "source": [
    "## 责任链模式\n",
    "\n",
    "开发一个应用时，多数时候我们都能预先知道哪个方法能处理某个特定请求。然而，情况并 非总是如此。例如，想想任意一种广播计算机网络，例如最早的以太网实现（请参考网页 [t.cn/RqrTp0Y]）。在广播计算机网络中，会将所有请求发送给所有节点（简单起见，不考虑广播 域），但仅对所发送请求感兴趣的节点会处理请求。加入广播网络的所有计算机使用一种常见的 媒介相互连接，比如，下图中的三个节点通过光缆连接起来。"
   ]
  },
  {
   "cell_type": "markdown",
   "metadata": {},
   "source": [
    "如果一个节点对某个请求不感兴趣或者不知道如何处理这个请求，可以执行以下两个操作。\n",
    "* 忽略这个请求，什么都不做\n",
    "* 将请求转发给下一个节点"
   ]
  },
  {
   "cell_type": "markdown",
   "metadata": {},
   "source": [
    "节点对一个请求的反应方式是实现的细节。然而，我们可以使用广播计算机网络的类比来 理解责任链模式是什么。责任链（Chain of Responsibility）模式用于让多个对象来处理单个请求 时，或者用于预先不知道应该由哪个对象（来自某个对象链）来处理某个特定请求时。其原则 如下所示。\n",
    "\n",
    "(1) 存在一个对象链（链表、树或任何其他便捷的数据结构）。\n",
    "(2) 我们一开始将请求发送给链中的第一个对象。\n",
    "(3) 对象决定其是否要处理该请求。\n",
    "(4) 对象将请求转发给下一个对象。\n",
    "(5) 重复该过程，直到到达链尾。"
   ]
  },
  {
   "cell_type": "markdown",
   "metadata": {},
   "source": [
    "在应用级别，不用讨论光缆和网络节点，而是可以专注于对象以及请求的流程。下图展示了 客户端代码如何将请求发送给应用的所有处理元素（又称为节点或处理程序），经www.sourcema- king.com允许使用（请参考网页[t.cn/RqrTYuB]）。\n",
    "\n",
    "\n",
    "注意，客户端代码仅知道第一个处理元素，而非拥有对所有处理元素的引用；并且每个处理 元素仅知道其直接的下一个邻居（称为后继），而不知道所有其他处理元素。这通常是一种单向 关系，用编程术语来说是一个单向链表，与之相反的是双向链表。单向链表不允许双向地遍历元 素，双向链表则是允许的。这种链式组织方式大有用处：可以解耦发送方（客户端）和接收方（处 理元素）（请参考[GOF95，第254页]）。"
   ]
  },
  {
   "cell_type": "markdown",
   "metadata": {},
   "source": [
    "## 现实生活的例子\n",
    "\n",
    "ATM机以及及一般而言用于接收/返回钞票或硬币的任意类型机器（比如，零食自动贩卖机） 都使用了责任链模式。机器上总会有一个放置各种钞票的槽口，如下图所示（经www.sourcemaking. com允许使用）。\n",
    "\n",
    "钞票放入之后，会被传递到恰当的容器。钞票返回时，则是从恰当的容器中获取（请参考网 页[t.cn/RqrTYuB]和网页[t.cn/RqrTnts]）。我们可以把这个槽口视为共享通信媒介，不同的容 器则是处理元素。结果包含来自一个或多个容器的现金。例如，在上图中，我们看到在从ATM机 取175美元时会发生什么。"
   ]
  },
  {
   "cell_type": "markdown",
   "metadata": {},
   "source": [
    "## 软件的例子\n",
    "\n",
    "我试过寻找一些使用责任链模式的Python应用的好例子，但是没找到，很可能是因为Python 程序员不使用这个名称。因此，很抱歉，我将使用其他编程语言的例子作为参考。\n",
    "\n",
    "Java的servlet过滤器是在一个HTTP请求到达H标处理程序之前执行的一些代码片段。在使用 servlet过滤器时，有一个过滤器链，其中每个过滤器执行一个不同动作（用户身份验证、记H志、 数据压缩等），并且将请求转发给下一个过滤器直到链结束；如果发生错误（例如，连续三次身 份验证失败）则跳出处理流程（请参考网页[t.cn/RqrTukH]）。\n",
    "\n",
    "Apple的Cocoa和Cocoa Touch框架使用责任链来处理事件。在某个视图接收到一个其并不知 道如何处理的事件时，会将事件转发给其超视图，直到有个视图能够处理这个事件或者视图链结 束（请参考网页[t.cn/RqrTrzK]）。"
   ]
  },
  {
   "cell_type": "markdown",
   "metadata": {},
   "source": [
    "## 应用案例\n",
    "\n",
    "通过使用责任链模式，我们能让许多不同对象来处理一个特定请求。在我们预先不知道应该 由哪个对象来处理某个请求时，这是有用的。其中一个例子是采购系统。在采购系统中，有许多 核准权限。某个核准权限可能可以核准在一定额度之内的订单，假设为100美元。如果订单超过了 100美元，则会将订单发送给链中的下一个核准权限，比如能够核准在200美元以下的订单，等等。\n",
    "\n",
    "另一个责任链可以派上用场的场景是，在我们知道可能会有多个对象都需要对同一个请求进 行处理之时。这在基于事件的编程中是常有的事情。单个事件，比如一次鼠标左击，可被多个事 件监听者捕获。\n",
    "\n",
    "不过应该注意，如果所有请求都能被单个处理程序处理，责任链就没那么有用了，除非确实 不知道会是哪个程序处理请求。这一模式的价值在于解耦。客户端与所有处理程序（一个处理程 序与所有其他处理程序之间也是如此）之间不再是多对多关系，客户端仅需要知道如何与链的起 始节点（标头）进行通信。\n",
    "\n",
    "下图演示了紧耦合与松耦合之间的区别心。松耦合系统背后的考虑是简化维护，并让我们易于理解系统的工作原理（请参考网页https://infomgmt.wordpress.com/2010/02/18/a-visual-respresen- tation-of-coupling/）。\n",
    "\n",
    "数据耦合（data coupling）、特征耦合（stamp coupling）、控制耦合（control coupling）、共用耦合（common coupling） 和内容耦合（content coupling）这几个概念的含义可参考Wikipedia词条 https://en.wikipedia.org/wiki/Coupling_(computer_programming)。 ——译者注"
   ]
  },
  {
   "cell_type": "markdown",
   "metadata": {},
   "source": [
    "## 实现\n",
    "使用Python实现责任链模式有许多种方式，但是我最喜欢的实现是Vespe   Savikko所提出的（请参考网页[t.cn/RqruSj1])。 Vespe的实现以地道的Python风格使用动态分发来处理请求（请参 考网页[t.cn/RqruWFp]）。\n",
    "\n",
    "我们以Vespe的实现为参考实现一个简单的事件系统。下面是该系统的UML类图。\n",
    "\n",
    "\n",
    "Event类描述一个事件。为了让它简单一点，在我们的案例中一个事件只有一个name属性。"
   ]
  },
  {
   "cell_type": "code",
   "execution_count": null,
   "metadata": {
    "collapsed": true
   },
   "outputs": [],
   "source": [
    "class Event:\n",
    "    \n",
    "    def __init__(self, name):\n",
    "        self.name = name\n",
    "        \n",
    "    def __str__(self):\n",
    "        return self.name"
   ]
  },
  {
   "cell_type": "markdown",
   "metadata": {},
   "source": [
    "Widget类是应用的核心类。UML图中展示的parent聚合关系表明每个控件都有一个到父对 象的引用。按照约定，我们假定父对象是一个Widget实例。然而，注意，根据继承的规则，任 何Widget子类的实例（例如，MsgText的实例）也是Widget实例。parent的默认值为None。"
   ]
  },
  {
   "cell_type": "code",
   "execution_count": null,
   "metadata": {
    "collapsed": true
   },
   "outputs": [],
   "source": [
    "class Widget:\n",
    "    def __init__(self, parent=None):\n",
    "        self.parent = parent"
   ]
  },
  {
   "cell_type": "markdown",
   "metadata": {},
   "source": [
    "handle()方法使用动态分发，通过hasattr()和getattr()决定一个特定请求（event） 应该由谁来处理。如果被请求处理事件的控件并不支持该事件，则有两种回退机制。如果控件有 parent，则执行parent的handle()方法。如果控件没有parent，但有handle_default()方 法，则执行handle_default()。"
   ]
  },
  {
   "cell_type": "code",
   "execution_count": null,
   "metadata": {
    "collapsed": true
   },
   "outputs": [],
   "source": [
    "def handle(self, event):\n",
    "    handler = 'handle_{}'.format(event)\n",
    "    if hasattr(self, handler):\n",
    "        method = getattr(self, handler)\n",
    "        method(event)\n",
    "    elif self.parent:\n",
    "        self.parent.handle(event)\n",
    "    elif hasattr(self, 'handle_default'):\n",
    "        self.handle_default(event)"
   ]
  },
  {
   "cell_type": "markdown",
   "metadata": {},
   "source": [
    "此时，你可能已明臼为什么UML类图中Widget与Event类仅是关联关系而已（不是聚合或 组合关系）。关联关系用于表明Widget类知道Event类，但对其没有任何严格的引用，因为事件 仅需要作为参数传递给handle()。\n",
    "\n",
    "MainWindow、MsgText和SendDialog是具有不同行为的控件。我们并不期望这三个控件 都能处理相同的事件，即使它们能处理相同事件，表现出来也可能是不同的。MainWindow仅能 处理close和default事件。"
   ]
  },
  {
   "cell_type": "code",
   "execution_count": null,
   "metadata": {
    "collapsed": true
   },
   "outputs": [],
   "source": [
    "class MainWindow(Widget):\n",
    "    def handle_close(self, event):\n",
    "        print('MainWindow: {}'.format(event))\n",
    "    def handle_default(self, event):\n",
    "        print('MainWindow Default: {}'.format(event))"
   ]
  },
  {
   "cell_type": "markdown",
   "metadata": {},
   "source": [
    "SendDialog仅能处理paint事件。"
   ]
  },
  {
   "cell_type": "code",
   "execution_count": null,
   "metadata": {
    "collapsed": true
   },
   "outputs": [],
   "source": [
    "class SendDialog(Widget):\n",
    "        def handle_paint(self, event):\n",
    "            print('SendDialog: {}'.format(event))"
   ]
  },
  {
   "cell_type": "markdown",
   "metadata": {},
   "source": [
    "最后，MsgText仅能处理down事件。"
   ]
  },
  {
   "cell_type": "code",
   "execution_count": null,
   "metadata": {
    "collapsed": true
   },
   "outputs": [],
   "source": [
    "class MsgText(Widget):\n",
    "    def handle_down(self, event):\n",
    "        print('MsgText: {}'.format(event))"
   ]
  },
  {
   "cell_type": "markdown",
   "metadata": {},
   "source": [
    "main()函数展示如何创建一些控件和事件，以及控件如何对那些事件作出反应。所有事件 都会被发送给所有控件。注意其中每个控件的父子关系。sd对象（SendDialog的一个实例）的 父对象是mw（MainWindow的一个实例）。然而，并不是所有对象都需要一个MainWindow实例的 父对象。例如，msg对象（MsgText的一个实例）是以sd作为父对象。"
   ]
  },
  {
   "cell_type": "code",
   "execution_count": null,
   "metadata": {
    "collapsed": true
   },
   "outputs": [],
   "source": [
    "def main(): 5 mw = MainWindow()\n",
    "    sd = SendDialog(mw)\n",
    "    msg = MsgText(sd)\n",
    "    for e in ('down', 'paint', 'unhandled', 'close'):\n",
    "        evt = Event(e)\n",
    "        print('\\nSending event -{}- to MainWindow'.format(evt))\n",
    "        mw.handle(evt)\n",
    "        print('Sending event -{}- to SendDialog'.format(evt))\n",
    "        sd.handle(evt)\n",
    "        print('Sending event -{}- to MsgText'.format(evt))\n",
    "        msg.handle(evt)"
   ]
  },
  {
   "cell_type": "code",
   "execution_count": null,
   "metadata": {
    "collapsed": true
   },
   "outputs": [],
   "source": [
    "以下是示例的完整代码（chain.py）。"
   ]
  },
  {
   "cell_type": "code",
   "execution_count": 1,
   "metadata": {
    "collapsed": false
   },
   "outputs": [
    {
     "name": "stdout",
     "output_type": "stream",
     "text": [
      "\n",
      "Sending event -down- to MainWindow\n",
      "MainWindow Default: down\n",
      "Sending event -down- to SendDialog\n",
      "MainWindow Default: down\n",
      "Sending event -down- to MsgText\n",
      "MsgText: down\n",
      "\n",
      "Sending event -paint- to MainWindow\n",
      "MainWindow Default: paint\n",
      "Sending event -paint- to SendDialog\n",
      "SendDialog: paint\n",
      "Sending event -paint- to MsgText\n",
      "SendDialog: paint\n",
      "\n",
      "Sending event -unhandled- to MainWindow\n",
      "MainWindow Default: unhandled\n",
      "Sending event -unhandled- to SendDialog\n",
      "MainWindow Default: unhandled\n",
      "Sending event -unhandled- to MsgText\n",
      "MainWindow Default: unhandled\n",
      "\n",
      "Sending event -close- to MainWindow\n",
      "MainWindow: close\n",
      "Sending event -close- to SendDialog\n",
      "MainWindow: close\n",
      "Sending event -close- to MsgText\n",
      "MainWindow: close\n"
     ]
    }
   ],
   "source": [
    "class Event:\n",
    "    def __init__(self, name):\n",
    "        self.name = name\n",
    "\n",
    "    def __str__(self):\n",
    "        return self.name\n",
    "\n",
    "class Widget:\n",
    "    def __init__(self, parent=None):\n",
    "        self.parent = parent\n",
    "\n",
    "    def handle(self, event):\n",
    "        handler = 'handle_{}'.format(event)\n",
    "        if hasattr(self, handler):\n",
    "            method = getattr(self, handler)\n",
    "            method(event)\n",
    "        elif self.parent:\n",
    "            self.parent.handle(event)\n",
    "        elif hasattr(self, 'handle_default'):\n",
    "            self.handle_default(event)\n",
    "\n",
    "class MainWindow(Widget):\n",
    "    def handle_close(self, event):\n",
    "        print('MainWindow: {}'.format(event))\n",
    "\n",
    "    def handle_default(self, event):\n",
    "        print('MainWindow Default: {}'.format(event))\n",
    "\n",
    "class SendDialog(Widget):\n",
    "    def handle_paint(self, event):\n",
    "        print('SendDialog: {}'.format(event))\n",
    "\n",
    "class MsgText(Widget):\n",
    "    def handle_down(self, event):\n",
    "        print('MsgText: {}'.format(event))\n",
    "\n",
    "def main():\n",
    "    mw = MainWindow()\n",
    "    sd = SendDialog(mw)\n",
    "    msg = MsgText(sd)\n",
    "\n",
    "    for e in ('down', 'paint', 'unhandled', 'close'):\n",
    "        evt = Event(e)\n",
    "        print('\\nSending event -{}- to MainWindow'.format(evt))\n",
    "        mw.handle(evt)\n",
    "        print('Sending event -{}- to SendDialog'.format(evt))\n",
    "        sd.handle(evt)\n",
    "        print('Sending event -{}- to MsgText'.format(evt))\n",
    "        msg.handle(evt)\n",
    "\n",
    "if __name__ == '__main__':\n",
    "    main()"
   ]
  },
  {
   "cell_type": "markdown",
   "metadata": {},
   "source": [
    "从输出中我们能看到一些有趣的东西。例如，发送一个down事件给MainWindow，最终被 MainWindow默认处理函数处理。另一个不错的用例是，虽然close事件不能被SendDialog和 MsgText直接处理，但所有close事件最终都能被MainWindow正确处理。这正是使用父子关系 作为一种回退机制的优美之处。\n",
    "\n",
    "如果你想在这个事件例子上花费更多时间发挥自己的创意，可以替换这些愚蠢的print语 旬，针对罗列出来的事件添加一些实际的行为。当然，并不限于罗列出来的事件。随意添加一些 你喜欢的事件，做一些有用的事情！\n",
    "\n",
    "另一个练习是在运行时添加一个MsgText实例，以MainWindow为其父。这个有难度吗？也 挑个事件类型来试试（为一个已有控件添加一个新的事件），哪个更难？"
   ]
  },
  {
   "cell_type": "markdown",
   "metadata": {},
   "source": [
    "## 小结\n",
    "\n",
    "本章中，我们学习了责任链设计模式。在尤法预先知道处理程序的数量和类型时，该模式有 助于对请求/处理事件进行建模。适合使用责任链模式的系统例子包括基于事件的系统、采购系 统和运输系统。\n",
    "\n",
    "在责任链模式中，发送方可直接访问链中的首个节点。若首个节点不能处理请求，则转发给 下一个节点，如此直到请求被某个节点处理或者整个链遍历结束。这种设计用于实现发送方与接 收方（多个）之间的解耦。\n",
    "\n",
    "ATM机是责任链的一个例子。用于取放钞票的槽口可看作是链的头部。从这里开始，根据具 体交易，一个或多个容器会被用于处理交易。这些容器可看作是链中的处理程序。\n",
    "\n",
    "Java的servlet过滤器使用责任链模式对一个HTTP请求执行不同的动作（例如，压缩和身份验 证）。Apple的Cocoa框架使用相同的模式来处理事件，比如，按钮和手势。\n",
    "\n",
    "10.4节演示了在Python中我们可以如何使用动态分发创建基于事件的系统。 \n",
    "\n",
    "第11章介绍命令模式，该模式用于（但不限于）在应用中添加撤销支持。"
   ]
  }
 ],
 "metadata": {
  "kernelspec": {
   "display_name": "Python 3",
   "language": "python",
   "name": "python3"
  },
  "language_info": {
   "codemirror_mode": {
    "name": "ipython",
    "version": 3
   },
   "file_extension": ".py",
   "mimetype": "text/x-python",
   "name": "python",
   "nbconvert_exporter": "python",
   "pygments_lexer": "ipython3",
   "version": "3.6.0"
  }
 },
 "nbformat": 4,
 "nbformat_minor": 0
}
