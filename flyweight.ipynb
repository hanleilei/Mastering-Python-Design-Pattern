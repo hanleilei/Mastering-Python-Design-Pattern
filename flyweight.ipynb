{
 "cells": [
  {
   "cell_type": "markdown",
   "metadata": {},
   "source": [
    "# 享元模式\n",
    "\n",
    "由于对象创建的开销,面向对象的系统可能会面临性能问题。性能问题通常在资源受限的嵌入式系统中出现,比如智能手机和平板电脑。大型复杂系统中也可能会出现同样的问题,因为要 在其中创建大量对象(也可能是用户),这些对象需要同时并存。\n",
    "\n",
    "这个问题之所以会发生,是因为当我们创建一个新对象时,需要分配额外的内存。虽然虚拟 内存理论上为我们提供了无限制的内存空间,但现实却并非如此。如果一个系统耗尽了所有的物 理内存,就会开始将内存页替换到二级存储设备,通常是硬盘驱动器(Hard Disk Drive,HDD)。 在多数情况下,由于内存和硬盘之间的性能差异,这是不能接受的。固态硬盘(Solid State Drive, SSD)的性能一般比硬盘更好,但并非人人都使用SSD,SSD并不会很快全面替代硬盘(请参考 网页[t.cn/RqrjS0E])。\n",
    "\n",
    "除内存使用之外,计算性能也是一个考虑点。图形软件,包括计算机游戏,应该能够极快地 渲染3D信息(例如,有成千上万棵树的森林或满是士兵的村庄)。如果一个3D地带的每个对象都 是单独创建,未使用数据共享,那么性能将是无法接受的(请参考网页[t.cn/Rqrj9qa])。\n",
    "\n",
    "作为软件工程师,我们应该编写更好的软件来解决软件问题,而不是要求客户购买更多更好 的硬件。**享元设计模式通过为相似对象引入数据共享来最小化内存使用,提升性能**(请参考网页 [t.cn/RqrjNF3])。**一个享元(Flyweight)就是一个包含状态独立的不可变(又称固有的)数据的共享对象。依赖状态的可变(又称非固有的)数据不应是享元的一部分,因为每个对象的这种信息都不同,无法共享。如果享元需要非固有的数据,应该由客户端代码显式地提供**(请参考[GOF95,第219页]和网页[t.cn/RqrjOX3])。\n",
    "\n",
    "用一个例子可能有助于解释实际应用场景中如何使用享元模式。假设我们正在设计一个性能 关键的游戏,例如第一人称射击(First-Person Shooter,FPS)游戏。在FPS游戏中,玩家(士兵) 共享一些状态,如外在表现和行为。例如,在《反恐精英》游戏中,同一团队(反恐精英或恐怖 分子)的所有士兵看起来都是一样的(外在表现)。同一个游戏中,(两个团队的)所有士兵都有 一些共同的动作,比如,跳起、低头等(行为)。这意味着我们可以创建一个享元来包含所有共同的数据。当然,士兵也有许多因人而异的可变数据,这些数据不是享元的一部分,比如,枪支、健康状况和地理位置等。"
   ]
  },
  {
   "cell_type": "code",
   "execution_count": 6,
   "metadata": {
    "collapsed": false
   },
   "outputs": [
    {
     "name": "stdout",
     "output_type": "stream",
     "text": [
      "<Card: 9h> <Card: 9h>\n",
      "True True\n",
      "4405784136 4405784136\n",
      "True\n",
      "False\n"
     ]
    },
    {
     "ename": "AttributeError",
     "evalue": "type object 'Card2' has no attribute 'pool'",
     "output_type": "error",
     "traceback": [
      "\u001b[0;31m---------------------------------------------------------------------------\u001b[0m",
      "\u001b[0;31mAttributeError\u001b[0m                            Traceback (most recent call last)",
      "\u001b[0;32m<ipython-input-6-f0792005f54c>\u001b[0m in \u001b[0;36m<module>\u001b[0;34m()\u001b[0m\n\u001b[1;32m     96\u001b[0m \u001b[0;34m\u001b[0m\u001b[0m\n\u001b[1;32m     97\u001b[0m     \u001b[0;31m# Tests with metaclass\u001b[0m\u001b[0;34m\u001b[0m\u001b[0;34m\u001b[0m\u001b[0m\n\u001b[0;32m---> 98\u001b[0;31m     \u001b[0minstances_pool\u001b[0m \u001b[0;34m=\u001b[0m \u001b[0mgetattr\u001b[0m\u001b[0;34m(\u001b[0m\u001b[0mCard2\u001b[0m\u001b[0;34m,\u001b[0m \u001b[0;34m'pool'\u001b[0m\u001b[0;34m)\u001b[0m\u001b[0;34m\u001b[0m\u001b[0m\n\u001b[0m\u001b[1;32m     99\u001b[0m     \u001b[0mcm1\u001b[0m \u001b[0;34m=\u001b[0m \u001b[0mCard2\u001b[0m\u001b[0;34m(\u001b[0m\u001b[0;34m'10'\u001b[0m\u001b[0;34m,\u001b[0m \u001b[0;34m'h'\u001b[0m\u001b[0;34m,\u001b[0m \u001b[0ma\u001b[0m\u001b[0;34m=\u001b[0m\u001b[0;36m1\u001b[0m\u001b[0;34m)\u001b[0m\u001b[0;34m\u001b[0m\u001b[0m\n\u001b[1;32m    100\u001b[0m     \u001b[0mcm2\u001b[0m \u001b[0;34m=\u001b[0m \u001b[0mCard2\u001b[0m\u001b[0;34m(\u001b[0m\u001b[0;34m'10'\u001b[0m\u001b[0;34m,\u001b[0m \u001b[0;34m'h'\u001b[0m\u001b[0;34m,\u001b[0m \u001b[0ma\u001b[0m\u001b[0;34m=\u001b[0m\u001b[0;36m1\u001b[0m\u001b[0;34m)\u001b[0m\u001b[0;34m\u001b[0m\u001b[0m\n",
      "\u001b[0;31mAttributeError\u001b[0m: type object 'Card2' has no attribute 'pool'"
     ]
    }
   ],
   "source": [
    "#以下是来自于github的示例\n",
    "\n",
    "# -*- coding: utf-8 -*-\n",
    "\n",
    "\"\"\"http://codesnipers.com/?q=python-flyweights\"\"\"\n",
    "\n",
    "import weakref\n",
    "\n",
    "\n",
    "class FlyweightMeta(type):\n",
    "    def __new__(mcs, name, parents, dct):\n",
    "        \"\"\"\n",
    "\n",
    "        :param name: class name\n",
    "        :param parents: class parents\n",
    "        :param dct: dict: includes class attributes, class methods,\n",
    "        static methods, etc\n",
    "        :return: new class\n",
    "        \"\"\"\n",
    "\n",
    "        # set up instances pool\n",
    "        dct['pool'] = weakref.WeakValueDictionary()\n",
    "        return super(FlyweightMeta, mcs).__new__(mcs, name, parents, dct)\n",
    "\n",
    "    @staticmethod\n",
    "    def _serialize_params(cls, *args, **kwargs):\n",
    "        \"\"\"Serialize input parameters to a key.\n",
    "        Simple implementation is just to serialize it as a string\n",
    "\n",
    "        \"\"\"\n",
    "        args_list = map(str, args)\n",
    "        args_list.extend([str(kwargs), cls.__name__])\n",
    "        key = ''.join(args_list)\n",
    "        return key\n",
    "\n",
    "    def __call__(cls, *args, **kwargs):\n",
    "        key = FlyweightMeta._serialize_params(cls, *args, **kwargs)\n",
    "        pool = getattr(cls, 'pool', {})\n",
    "\n",
    "        instance = pool.get(key)\n",
    "        if not instance:\n",
    "            instance = super(FlyweightMeta, cls).__call__(*args, **kwargs)\n",
    "            pool[key] = instance\n",
    "        return instance\n",
    "\n",
    "\n",
    "class Card(object):\n",
    "\n",
    "    \"\"\"The object pool. Has builtin reference counting\"\"\"\n",
    "    _CardPool = weakref.WeakValueDictionary()\n",
    "\n",
    "    \"\"\"Flyweight implementation. If the object exists in the\n",
    "    pool just return it (instead of creating a new one)\"\"\"\n",
    "    def __new__(cls, value, suit):\n",
    "        obj = Card._CardPool.get(value + suit)\n",
    "        if not obj:\n",
    "            obj = object.__new__(cls)\n",
    "            Card._CardPool[value + suit] = obj\n",
    "            obj.value, obj.suit = value, suit\n",
    "        return obj\n",
    "\n",
    "    # def __init__(self, value, suit):\n",
    "    #     self.value, self.suit = value, suit\n",
    "\n",
    "    def __repr__(self):\n",
    "        return \"<Card: %s%s>\" % (self.value, self.suit)\n",
    "\n",
    "\n",
    "class Card2(object):\n",
    "    __metaclass__ = FlyweightMeta\n",
    "\n",
    "    def __init__(self, *args, **kwargs):\n",
    "        # print('Init {}: {}'.format(self.__class__, (args, kwargs)))\n",
    "        pass\n",
    "\n",
    "\n",
    "if __name__ == '__main__':\n",
    "    import sys\n",
    "    if sys.version_info[0] > 2:\n",
    "        sys.stderr.write(\"!!! This example is compatible only with Python 2 ATM !!!\\n\")\n",
    "        raise SystemExit(0)\n",
    "\n",
    "    # comment __new__ and uncomment __init__ to see the difference\n",
    "    c1 = Card('9', 'h')\n",
    "    c2 = Card('9', 'h')\n",
    "    print(c1, c2)\n",
    "    print(c1 == c2, c1 is c2)\n",
    "    print(id(c1), id(c2))\n",
    "\n",
    "    c1.temp = None\n",
    "    c3 = Card('9', 'h')\n",
    "    print(hasattr(c3, 'temp'))\n",
    "    c1 = c2 = c3 = None\n",
    "    c3 = Card('9', 'h')\n",
    "    print(hasattr(c3, 'temp'))\n",
    "\n",
    "    # Tests with metaclass\n",
    "    instances_pool = getattr(Card2, 'pool')\n",
    "    cm1 = Card2('10', 'h', a=1)\n",
    "    cm2 = Card2('10', 'h', a=1)\n",
    "    cm3 = Card2('10', 'h', a=2)\n",
    "\n",
    "    assert (cm1 == cm2) != cm3\n",
    "    assert (cm1 is cm2) is not cm3\n",
    "    assert len(instances_pool) == 2\n",
    "\n",
    "    del cm1\n",
    "    assert len(instances_pool) == 2\n",
    "\n",
    "    del cm2\n",
    "    assert len(instances_pool) == 1\n",
    "\n",
    "    del cm3\n",
    "    assert len(instances_pool) == 0\n",
    "\n",
    "### OUTPUT ###\n",
    "# (<Card: 9h>, <Card: 9h>)\n",
    "# (True, True)\n",
    "# (31903856, 31903856)\n",
    "# True\n",
    "# False"
   ]
  },
  {
   "cell_type": "markdown",
   "metadata": {},
   "source": [
    "上面程序的运行结果\n",
    "\n",
    "root@localhost:~/software# python flyweight.py\n",
    "(<Card: 9h>, <Card: 9h>)\n",
    "(True, True)\n",
    "(140061805283344, 140061805283344)\n",
    "True\n",
    "False"
   ]
  },
  {
   "cell_type": "code",
   "execution_count": 5,
   "metadata": {
    "collapsed": false
   },
   "outputs": [
    {
     "name": "stdout",
     "output_type": "stream",
     "text": [
      "<Card: 9h> <Card: 9h>\n",
      "True\n",
      "4405761024 4405761024\n"
     ]
    }
   ],
   "source": [
    "\"\"\"http://codesnipers.com/?q=python-flyweights\"\"\"\n",
    "\n",
    "import weakref  \n",
    "\n",
    "\n",
    "class Card(object):\n",
    "    \"\"\"The object pool. Has builtin reference counting\"\"\"\n",
    "    _CardPool = weakref.WeakValueDictionary() \n",
    "\n",
    "    \"\"\"Flyweight implementation. If the object exists in the\n",
    "    pool just return it (instead of creating a new one)\"\"\"\n",
    "    def __new__(cls, value, suit):         \n",
    "        obj = Card._CardPool.get(value + suit, None)         \n",
    "        if not obj:             \n",
    "            obj = object.__new__(cls)             \n",
    "            Card._CardPool[value + suit] = obj             \n",
    "            obj.value, obj.suit = value, suit          \n",
    "        return obj\n",
    "\n",
    "    # def __init__(self, value, suit):         \n",
    "    #     self.value, self.suit = value, suit      \n",
    "\n",
    "    def __repr__(self):         \n",
    "        return \"<Card: %s%s>\" % (self.value, self.suit)      \n",
    "\n",
    "\n",
    "if __name__ == '__main__':\n",
    "    # comment __new__ and uncomment __init__ to see the difference\n",
    "    c1 = Card('9', 'h')\n",
    "    c2 = Card('9', 'h')\n",
    "    print(c1, c2)\n",
    "    print(c1 == c2)\n",
    "    print(id(c1), id(c2))\n",
    "\n"
   ]
  },
  {
   "cell_type": "markdown",
   "metadata": {},
   "source": [
    "## 现实生活的例子\n",
    "\n",
    "享元模式是一个用于优化的设计模式。因此,要找一个合适的现实生活的例子不太容易。我 们可以把享元看作现实生活中的缓存区。例如,许多书店都有专用的书架来摆放最新和最流行的 出版物。这就是一个缓存区,你可以先在这些专用书架上看看有没有正在找的书籍,如果没找到, 则可以让图书管理员来帮你。\n",
    "\n",
    "## 软件的例子\n",
    "\n",
    "Exaile音乐播放器(请参考网页[t.cn/RqrjYHQ])使用享元来复用通过相同URL识别的对象 (在这里是指音乐歌曲)。创建一个与已有对象的URL相同的新对象是没有意义的,所以复用相同的对象来节约资源(请参考网页[http://t.cn/RqrjQWr])。\n",
    "\n",
    "Peppy是一个用Python语言实现的类XEmacs编辑器(请参考网页[t.cn/hbhSda]),它使用享 元模式存储major mode状态栏的状态。这是因为除非用户修改,否则所有状态栏共享相同的属性(请参考网页[t.cn/Rqrjm9y])。这个软件原作者2014年就放弃了。\n",
    "\n",
    "## 应用案例 \n",
    "\n",
    "享元旨在优化性能和内存使用。所有嵌入式系统(手机、平板电脑、游戏终端和微控制器等)和性能关键的应用(游戏、3D图形处理和实时系统等)都能从其获益。 若想要享元模式有效,需要满足GoF的《设计模式》一书罗列的以下几个条件。\n",
    "* 应用需要使用大量的对象。\n",
    "* 对象太多,存储/渲染它们的代价太大。一旦移除对象中的可变状态(因为在需要之时,应该由客户端代码显式地传递给享元),多组不同的对象可被相对更少的共享对象所替代。\n",
    "* 对象ID对于应用不重要。对象共享会造成ID比较的失败,所以不能依赖对象ID(那些在客户端代码看来不同的对象,最终具有相同的ID)。\n",
    "\n",
    "## 实现\n",
    "由于之前已提到树的例子,那么就来看看如何实现它。在这个例子中,我们将构造一小片水 果树的森林,小到能确保在单个终端页面中阅读整个输出。然而,无论你构造的森林有多大,内 存分配都保持相同。下面这个Enum类型变量描述三种不同种类的水果树。"
   ]
  },
  {
   "cell_type": "code",
   "execution_count": null,
   "metadata": {
    "collapsed": true
   },
   "outputs": [],
   "source": [
    "TreeType = Enum('TreeType', 'apple_tree cherry_tree peach_tree')"
   ]
  },
  {
   "cell_type": "markdown",
   "metadata": {},
   "source": [
    "## 现实生活中的例子\n",
    "\n",
    "在深入代码之前,我们稍稍解释一下memoization与享元模式之间的区别。memoization是一 种优化技术,使用一个缓存来避免重复计算那些在更早的执行步骤中已经计算好的结果。 memoization并不是只能应用于某种特定的编程方式,比如面向对象编程(Object-Oriented Programming,OOP)。在Python中,memoization可以应用于方法和简单的函数。享元则是一种特 定于面向对象编程优化的设计模式,关注的是共享对象数据。\n",
    "\n",
    "在Python中,享元可以以多种方式实现,但我发现这个例子中展示的实现非常简洁。pool 变量是一个对象池(换句话说,是我们的缓存)。注意:pool是一个类属性(类的所有实例共享 的一个变量,请参考网页[t.cn/zHwpgFe])。使用特殊方法__new__(这个方法在__init__之 前被调用),我们把Tree类变换成一个元类,元类支持自引用。这意味着cls引用的是Tree类(请 参考[Lott14,第99页])。当客户端要创建Tree的一个实例时,会以tree_type参数传递树的种类。树的种类用于检查是否创建过相同种类的树。如果是,则返回之前创建的对象;否则,将这 个新的树种添加到池中,并返回相应的新对象,如下所示。"
   ]
  },
  {
   "cell_type": "code",
   "execution_count": null,
   "metadata": {
    "collapsed": true
   },
   "outputs": [],
   "source": [
    "def __new__(cls, tree_type):\n",
    "    obj = cls.pool.get(tree_type, None)\n",
    "    if not obj:\n",
    "        obj = object.__new__(cls)\n",
    "        cls.pool[tree_type] = obj\n",
    "        obj.tree_type = tree_type\n",
    "    return obj"
   ]
  },
  {
   "cell_type": "markdown",
   "metadata": {},
   "source": [
    "方法render()用于在屏幕上渲染一棵树。注意,享元不知道的所有可变(外部的)信息都 需要由客户端代码显式地传递。在当前案例中,每棵树都用到一个随机的年龄和一个x, y形式 的位置。为了让render()更加有用,有必要确保没有树会被渲染到另一个棵之上。你可以考虑 把这个作为练习。如果你想让渲染更加有趣,可以使用一个图形工具包,比如Tkinter或Pygame。"
   ]
  },
  {
   "cell_type": "code",
   "execution_count": null,
   "metadata": {
    "collapsed": true
   },
   "outputs": [],
   "source": [
    "def render(self, age, x, y):\n",
    "    print('render a tree of type {} and age {} at ({}, {})'.format(self.tree_type, age, x, y))"
   ]
  },
  {
   "cell_type": "markdown",
   "metadata": {},
   "source": [
    "main()函数展示了我们可以如何使用享元模式。一棵树的年龄是1到30年之间的一个随机 值。坐标使用1到100之间的随机值。虽然渲染了18棵树,但仅分配了3棵树的内存。输出的最后 一行证明当使用享元时,我们不能依赖对象的ID。函数id()会返回对象的内存地址。Python规范 并没有要求id()返回对象的内存地址,只是要求id()为每个对象返回一个唯一性ID,不过 CPython(Python的官方实现)正好使用对象的内存地址作为对象唯一性ID。在我们的例子中, 即使两个对象看起来不相同,但是如果它们属于同一个享元家族(在这里,家族由tree_type 14 定义),那么它们实际上有相同的ID。当然,不同ID的比较仍然可用于不同家族的对象,但这仅 在客户端知道实现细节的情况下才可行(通常并非如此)。"
   ]
  },
  {
   "cell_type": "code",
   "execution_count": 1,
   "metadata": {
    "collapsed": true
   },
   "outputs": [],
   "source": [
    "def main():\n",
    "    rnd = random.Random()\n",
    "    age_min, age_max = 1, 30 # 单位为年\n",
    "    min_point, max_point = 0, 100\n",
    "    tree_counter = 0\n",
    "    for _ in range(10):\n",
    "        t1 = Tree(TreeType.apple_tree)\n",
    "        t1.render(rnd.randint(age_min, age_max),\n",
    "                rnd.randint(min_point, max_point),\n",
    "                rnd.randint(min_point, max_point))\n",
    "        tree_counter += 1\n",
    "    for _ in range(3):\n",
    "        t2 = Tree(TreeType.cherry_tree)\n",
    "        t2.render(rnd.randint(age_min, age_max),\n",
    "                rnd.randint(min_point, max_point),\n",
    "                rnd.randint(min_point, max_point))\n",
    "        tree_counter += 1\n",
    "    for _ in range(5):\n",
    "        t3 = Tree(TreeType.peach_tree)\n",
    "        t3.render(rnd.randint(age_min, age_max),\n",
    "                    rnd.randint(min_point, max_point),\n",
    "                    rnd.randint(min_point, max_point))\n",
    "        tree_counter += 1\n",
    "\n",
    "    print('trees rendered: {}'.format(tree_counter)) \n",
    "    print('trees actually created: {}'.format(len(Tree.pool)))\n",
    "    t4 = Tree(TreeType.cherry_tree)\n",
    "    t5 = Tree(TreeType.cherry_tree)\n",
    "    t6 = Tree(TreeType.apple_tree)\n",
    "    print('{} == {}? {}'.format(id(t4), id(t5), id(t4) == id(t5)))\n",
    "    print('{} == {}? {}'.format(id(t5), id(t6), id(t5) == id(t6)))"
   ]
  },
  {
   "cell_type": "markdown",
   "metadata": {},
   "source": [
    "下面完整的代码清单(文件flyweight.py)将给出享元模式如何实现及使用的完整描述。"
   ]
  },
  {
   "cell_type": "code",
   "execution_count": 2,
   "metadata": {
    "collapsed": false
   },
   "outputs": [
    {
     "name": "stdout",
     "output_type": "stream",
     "text": [
      "render a tree of type TreeType.apple_tree and age 29 at (13, 7)\n",
      "render a tree of type TreeType.apple_tree and age 21 at (40, 66)\n",
      "render a tree of type TreeType.apple_tree and age 3 at (53, 52)\n",
      "render a tree of type TreeType.apple_tree and age 19 at (100, 84)\n",
      "render a tree of type TreeType.apple_tree and age 11 at (57, 56)\n",
      "render a tree of type TreeType.apple_tree and age 22 at (20, 37)\n",
      "render a tree of type TreeType.apple_tree and age 11 at (7, 16)\n",
      "render a tree of type TreeType.apple_tree and age 3 at (10, 18)\n",
      "render a tree of type TreeType.apple_tree and age 17 at (85, 75)\n",
      "render a tree of type TreeType.apple_tree and age 4 at (97, 34)\n",
      "render a tree of type TreeType.cherry_tree and age 17 at (72, 29)\n",
      "render a tree of type TreeType.cherry_tree and age 10 at (26, 79)\n",
      "render a tree of type TreeType.cherry_tree and age 1 at (85, 56)\n",
      "render a tree of type TreeType.peach_tree and age 6 at (44, 71)\n",
      "render a tree of type TreeType.peach_tree and age 4 at (42, 50)\n",
      "render a tree of type TreeType.peach_tree and age 27 at (85, 24)\n",
      "render a tree of type TreeType.peach_tree and age 27 at (51, 22)\n",
      "render a tree of type TreeType.peach_tree and age 23 at (37, 55)\n",
      "trees rendered: 18\n",
      "trees actually created: 3\n",
      "4405186288 == 4405186288? True\n",
      "4405186288 == 4405186456? False\n"
     ]
    }
   ],
   "source": [
    "import random\n",
    "from enum import Enum\n",
    "TreeType = Enum('TreeType', 'apple_tree cherry_tree peach_tree')\n",
    "  \n",
    "class Tree:\n",
    "    pool = dict()\n",
    "    def __new__(cls, tree_type):\n",
    "        obj = cls.pool.get(tree_type, None)\n",
    "        if not obj:\n",
    "            obj = object.__new__(cls)\n",
    "            cls.pool[tree_type] = obj\n",
    "            obj.tree_type = tree_type\n",
    "        return obj\n",
    "\n",
    "    def render(self, age, x, y):\n",
    "        print('render a tree of type {} and age {} at ({}, {})'.format(self.tree_type, age, x, y))\n",
    "\n",
    "\n",
    "\n",
    "def main():\n",
    "    rnd = random.Random()\n",
    "    age_min, age_max = 1, 30 # 单位为年\n",
    "    min_point, max_point = 0, 100\n",
    "    tree_counter = 0\n",
    "    for _ in range(10):\n",
    "        t1 = Tree(TreeType.apple_tree)\n",
    "        t1.render(rnd.randint(age_min, age_max),\n",
    "                rnd.randint(min_point, max_point),\n",
    "                rnd.randint(min_point, max_point))\n",
    "        tree_counter += 1\n",
    "    for _ in range(3):\n",
    "        t2 = Tree(TreeType.cherry_tree)\n",
    "        t2.render(rnd.randint(age_min, age_max),\n",
    "                rnd.randint(min_point, max_point),\n",
    "                rnd.randint(min_point, max_point))\n",
    "        tree_counter += 1\n",
    "    for _ in range(5):\n",
    "        t3 = Tree(TreeType.peach_tree)\n",
    "        t3.render(rnd.randint(age_min, age_max),\n",
    "                    rnd.randint(min_point, max_point),\n",
    "                    rnd.randint(min_point, max_point))\n",
    "        tree_counter += 1\n",
    "\n",
    "    print('trees rendered: {}'.format(tree_counter)) \n",
    "    print('trees actually created: {}'.format(len(Tree.pool)))\n",
    "    t4 = Tree(TreeType.cherry_tree)\n",
    "    t5 = Tree(TreeType.cherry_tree)\n",
    "    t6 = Tree(TreeType.apple_tree)\n",
    "    print('{} == {}? {}'.format(id(t4), id(t5), id(t4) == id(t5)))\n",
    "    print('{} == {}? {}'.format(id(t5), id(t6), id(t5) == id(t6)))\n",
    "\n",
    "main()"
   ]
  },
  {
   "cell_type": "markdown",
   "metadata": {},
   "source": [
    "执行上面的示例程序会显示被渲染对象的类型、随机年龄以及坐标,还有相同/不同家族享 元对象ID的比较结果。你在执行这个程序时别指望能看到与下面相同的输出,因为年龄和坐标是 随机的,对象ID也依赖内存映射。\n",
    "\n",
    "如果你想更多地练习一下享元模式,可以尝试实现本章提到的FPS士兵。思考一下哪些数据 应该是享元的一部分(不可变的、内部的),哪些数据不应该是(可变的、外部的)。"
   ]
  },
  {
   "cell_type": "markdown",
   "metadata": {},
   "source": [
    "## 小结\n",
    "\n",
    "本章中,我们学习了享元模式。在我们想要优化内存使用提高应用性能之时,可以使用享元。 在所有内存受限(想一想嵌入式系统)或关注性能的系统(比如图形软件和电子游戏)中,这一 点相当重要。基于GTK+的Exaile音乐播放器使用享元来避免对象复制,Peppy文本编辑器则使用 享元来共享状态栏的属性。\n",
    "\n",
    "一般来说,在应用需要创建大量的计算代价大但共享许多属性的对象时,可以使用享元。重 点在于将不可变(可共享)的属性与可变的属性区分开。我们实现了一个树渲染器,支持三种不 同的树家族。通过显式地向render()方法提供可变的年龄和x, y属性,我们成功地仅创建了3 个不同的对象,而不是18个。虽然那看起来似乎没什么了不起,但是想象一下,如果是2000棵树 而不是18棵树,那又会怎样呢?\n",
    "\n",
    "第8章将学习一种非常流行的设计模式,用于解耦处理用户界面的代码与处理(业务)逻辑 的代码,这种模式就是模型视图控制器模式。"
   ]
  },
  {
   "cell_type": "code",
   "execution_count": null,
   "metadata": {
    "collapsed": true
   },
   "outputs": [],
   "source": []
  },
  {
   "cell_type": "code",
   "execution_count": null,
   "metadata": {
    "collapsed": true
   },
   "outputs": [],
   "source": []
  },
  {
   "cell_type": "code",
   "execution_count": null,
   "metadata": {
    "collapsed": true
   },
   "outputs": [],
   "source": []
  }
 ],
 "metadata": {
  "kernelspec": {
   "display_name": "Python 3",
   "language": "python",
   "name": "python3"
  },
  "language_info": {
   "codemirror_mode": {
    "name": "ipython",
    "version": 3
   },
   "file_extension": ".py",
   "mimetype": "text/x-python",
   "name": "python",
   "nbconvert_exporter": "python",
   "pygments_lexer": "ipython3",
   "version": "3.6.0"
  }
 },
 "nbformat": 4,
 "nbformat_minor": 0
}
