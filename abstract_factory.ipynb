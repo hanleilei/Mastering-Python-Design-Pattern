{
 "cells": [
  {
   "cell_type": "markdown",
   "metadata": {},
   "source": [
    "# 抽象工厂\n",
    "抽象工厂设计模式是抽象方法的一种泛化。概括来说,一个抽象工厂是(逻辑上的)一组工厂方法,其中的每个工厂方法负责产生不同种类的对象\n"
   ]
  },
  {
   "cell_type": "markdown",
   "metadata": {},
   "source": [
    "## 真实的例子\n",
    "\n",
    "抽象工厂用在车辆织造中。相同的机械装置用来冲压不同的车辆模型的部件（门，面板，车身罩体，挡泥板，以及各种镜子）。聚合了不同机械装置的模型是可配置的，而且在任何时候都可以轻松变更。在[这个链接](https://sourcemaking.com/design_patterns/abstract_factory)中我们可以看到一个车辆制造的抽象工厂的例子。\n"
   ]
  },
  {
   "cell_type": "markdown",
   "metadata": {},
   "source": [
    "如下所示的示例可以作为抽象工厂实现的参考："
   ]
  },
  {
   "cell_type": "code",
   "execution_count": 1,
   "metadata": {
    "collapsed": false
   },
   "outputs": [
    {
     "name": "stdout",
     "output_type": "stream",
     "text": [
      "We have a lovely Dog\n",
      "It says woof\n",
      "We also have dog food\n",
      "====================\n",
      "We have a lovely Cat\n",
      "It says meow\n",
      "We also have cat food\n",
      "====================\n",
      "We have a lovely Dog\n",
      "It says woof\n",
      "We also have dog food\n",
      "====================\n"
     ]
    }
   ],
   "source": [
    "#!/usr/bin/env python\n",
    "# -*- coding: utf-8 -*-\n",
    "\n",
    "# http://ginstrom.com/scribbles/2007/10/08/design-patterns-python-style/\n",
    "\n",
    "\"\"\"Implementation of the abstract factory pattern\"\"\"\n",
    "\n",
    "import random\n",
    "\n",
    "\n",
    "class PetShop:\n",
    "\n",
    "    \"\"\"A pet shop\"\"\"\n",
    "\n",
    "    def __init__(self, animal_factory=None):\n",
    "        \"\"\"pet_factory is our abstract factory.  We can set it at will.\"\"\"\n",
    "\n",
    "        self.pet_factory = animal_factory\n",
    "\n",
    "    def show_pet(self):\n",
    "        \"\"\"Creates and shows a pet using the abstract factory\"\"\"\n",
    "\n",
    "        pet = self.pet_factory.get_pet()\n",
    "        print(\"We have a lovely {}\".format(pet))\n",
    "        print(\"It says {}\".format(pet.speak()))\n",
    "        print(\"We also have {}\".format(self.pet_factory.get_food()))\n",
    "\n",
    "\n",
    "# Stuff that our factory makes\n",
    "\n",
    "class Dog:\n",
    "\n",
    "    def speak(self):\n",
    "        return \"woof\"\n",
    "\n",
    "    def __str__(self):\n",
    "        return \"Dog\"\n",
    "\n",
    "\n",
    "class Cat:\n",
    "\n",
    "    def speak(self):\n",
    "        return \"meow\"\n",
    "\n",
    "    def __str__(self):\n",
    "        return \"Cat\"\n",
    "\n",
    "\n",
    "# Factory classes\n",
    "\n",
    "class DogFactory:\n",
    "\n",
    "    def get_pet(self):\n",
    "        return Dog()\n",
    "\n",
    "    def get_food(self):\n",
    "        return \"dog food\"\n",
    "\n",
    "\n",
    "class CatFactory:\n",
    "\n",
    "    def get_pet(self):\n",
    "        return Cat()\n",
    "\n",
    "    def get_food(self):\n",
    "        return \"cat food\"\n",
    "\n",
    "\n",
    "# Create the proper family\n",
    "def get_factory():\n",
    "    \"\"\"Let's be dynamic!\"\"\"\n",
    "    return random.choice([DogFactory, CatFactory])()\n",
    "\n",
    "\n",
    "# Show pets with various factories\n",
    "\n",
    "for i in range(3):\n",
    "    shop = PetShop(get_factory())\n",
    "    shop.show_pet()\n",
    "    print(\"=\" * 20)\n",
    "\n",
    "### OUTPUT ###\n",
    "# We have a lovely Dog\n",
    "# It says woof\n",
    "# We also have dog food\n",
    "# ====================\n",
    "# We have a lovely Dog\n",
    "# It says woof\n",
    "# We also have dog food\n",
    "# ====================\n",
    "# We have a lovely Cat\n",
    "# It says meow\n",
    "# We also have cat food\n",
    "# ====================\n"
   ]
  },
  {
   "cell_type": "markdown",
   "metadata": {},
   "source": [
    "## 软件例子\n",
    "\n",
    "django_factory 包是一个为了在测试中创建Django模型的抽象工厂实现。它用来创建支持指定测试属性的模型实例。这是很重要的因为测试变得可读，以及避免共享不必要的代码。"
   ]
  },
  {
   "cell_type": "markdown",
   "metadata": {},
   "source": [
    "## 使用案例\n",
    "\n",
    "因为抽象工模式是工厂方法模式的归纳，它具有同样的**优点：使得追踪一个对象创建更容易，它让对象的使用和创建分离开，并且给我们内存使用以及应用的性能提高的可能**。\n",
    "\n",
    "这样会产生一个问题:我们怎么知道何时该使用工厂方法,何时又该使用抽象工厂?答案是, 通常一开始时使用工厂方法,因为它更简单。如果后来发现应用需要许多工厂方法,那么将创建 一系列对象的过程合并在一起更合理,从而最终引入抽象工厂。\n",
    "\n",
    "抽象工厂有一个优点,在使用工厂方法时从用户视角通常是看不到的,那就是抽象工厂能够 通过改变激活的工厂方法动态地(运行时)改变应用行为。一个经典例子是能够让用户在使用应 用时改变应用的观感(比如,Apple风格和Windows风格等),而不需要终止应用然后重新启动。"
   ]
  },
  {
   "cell_type": "markdown",
   "metadata": {},
   "source": [
    "## 实现\n",
    "\n",
    "为演示抽象工厂模式,我将重新使用Python 3 Patterns & Idioms(Bruce Eckel著)一书中的一个例子,它是我个人最喜欢的例子之一。想象一下,我们正在创 造一个游戏,或者想在应用中包含一个迷你游戏让用户娱乐娱乐。我们希望至少包含两个游戏, 一个面向孩子,一个面向成人。在运行时,基于用户输入,决定该创建哪个游戏并运行。游戏的 创建部分由一个抽象工厂维护。\n",
    "\n",
    "从孩子的游戏说起,我们将该游戏命名为FrogWorld。主人公是一只青蛙,喜欢吃虫子。每 个英雄都需要一个好名字,在我们的例子中,这个名字在运行时由用户给定。方法 interact_with()用于描述青蛙与障碍物(比如,虫子、迷宫或其他青蛙)之间的交互,如下所示："
   ]
  },
  {
   "cell_type": "code",
   "execution_count": null,
   "metadata": {
    "collapsed": true
   },
   "outputs": [],
   "source": [
    "Class Frog:\n",
    "    def __init__(self, name):\n",
    "        self.name = name\n",
    "\n",
    "    def __str__(self):\n",
    "        return self.name\n",
    "\n",
    "    def interact_with(self, obstacle):\n",
    "        print('{} the Frog encounters {} and {}!'.format(self, obstacle, obstacle.action()))"
   ]
  },
  {
   "cell_type": "markdown",
   "metadata": {},
   "source": [
    "可以有很多种类的障碍，不过对于我们的这个例子来说可以只有一个Bug。青蛙遇到一个虫子，只有一个行为被支持：吃掉它！"
   ]
  },
  {
   "cell_type": "code",
   "execution_count": null,
   "metadata": {
    "collapsed": true
   },
   "outputs": [],
   "source": [
    "Class Bug:\n",
    "    def __str__(self):\n",
    "        return 'a bug'\n",
    "\n",
    "    def action(self):\n",
    "        return 'eats it'"
   ]
  },
  {
   "cell_type": "markdown",
   "metadata": {},
   "source": [
    "FrogWorld类是一个抽象工厂。它的主要责任是游戏的主角和障碍物。保持创建方法的独立和方法名称的普通（例如，make_character(), make _obstacle()）让我们可以动态的改变活动工厂（以及活动的游戏）而不设计任何的代码变更。如下所示，在一个静态类型语言中，抽象工厂可以是一个有着空方法的抽象类/接口，但是在Python中不要求这么做，因为类型在运行时才被检查。"
   ]
  },
  {
   "cell_type": "code",
   "execution_count": null,
   "metadata": {
    "collapsed": true
   },
   "outputs": [],
   "source": [
    "Class FrogWorld:\n",
    "    def __inti__(self, name):\n",
    "        print(self)\n",
    "        self.player_name = name\n",
    "\n",
    "    def __str__(self):\n",
    "        return '\\n\\n\\t------ Frog World ------'\n",
    "    \n",
    "    def make_character(self):\n",
    "        return Forg(self.player_name)\n",
    "\n",
    "    def make_obstacle(self):\n",
    "        return Bug()\n"
   ]
  },
  {
   "cell_type": "markdown",
   "metadata": {},
   "source": [
    "游戏WizarWorld也类似。唯一的不同是巫师不吃虫子而是与半兽人这样的怪物战斗！"
   ]
  },
  {
   "cell_type": "code",
   "execution_count": null,
   "metadata": {
    "collapsed": true
   },
   "outputs": [],
   "source": [
    "Class Wizard:\n",
    "    def __init__(self, name):\n",
    "        self.name = name\n",
    "\n",
    "    def __str__(self):\n",
    "        return self.name\n",
    "\n",
    "    def interact_with(self, obstacle):\n",
    "        print('{} the Wizard batteles against {} and {}!'.format(\n",
    "            self, obstacle, obstacle.action()))\n",
    "\n",
    "\n",
    "Class Ork:\n",
    "    def __str__(self):\n",
    "        return 'an evial ork'\n",
    "\n",
    "    def action(self):\n",
    "        return 'kills it'\n",
    "\n",
    "\n",
    "\n",
    "Class WizardWorld:\n",
    "    def __init__(self, name):\n",
    "        print(self)\n",
    "        self.player_name = name\n",
    "\n",
    "    def __str__(self):\n",
    "        return '\\n\\n\\t------ Wizard World ------'\n",
    "\n",
    "    def make_character(self):\n",
    "        return Wizard(self.player_name)\n",
    "\n",
    "    def make_obstacle(self):\n",
    "        return Ork()\n"
   ]
  },
  {
   "cell_type": "markdown",
   "metadata": {},
   "source": [
    "GameEnviroment是我们游戏的主要入口。它接受factory作为输入，然后用它创建游戏的世界。play()方法发起创造的hero和obstacle之间的交互如下："
   ]
  },
  {
   "cell_type": "code",
   "execution_count": null,
   "metadata": {
    "collapsed": true
   },
   "outputs": [],
   "source": [
    "Class GameEnviroment:\n",
    "        def __init__(self, factory):\n",
    "            self.hero = factory.make_character()\n",
    "            self.obstacle = factory.make_obstacle()\n",
    "\n",
    "        def play(self):\n",
    "            self.hero.interact_with(self.obstacle)"
   ]
  },
  {
   "cell_type": "markdown",
   "metadata": {},
   "source": [
    "validate_age()函数提示用户输入一个有效的年龄。若年龄无效，则返回一个第一个元素设置为False的元组。如下所示，若输入的年龄没问题，元组的第一个元素设置为True，以及我们所关心的该元组的第二个元素，即用户给定的年龄："
   ]
  },
  {
   "cell_type": "code",
   "execution_count": null,
   "metadata": {
    "collapsed": true
   },
   "outputs": [],
   "source": [
    "def validate_age(name):\n",
    "        try:\n",
    "            age = input('Welcome {}. How old are you？'.format(name))\n",
    "            age = int(age)\n",
    "        except ValueError as err:\n",
    "            print(\"Age {} is valid, plz try again...\".format(age))\n",
    "            return (False, age)\n",
    "        return (True, age)\n"
   ]
  },
  {
   "cell_type": "markdown",
   "metadata": {},
   "source": [
    "最后，尤其是main()函数的出现。它询问了用户的名字和年龄，然后由用户的年龄来决定哪一个游戏应该被运行："
   ]
  },
  {
   "cell_type": "code",
   "execution_count": null,
   "metadata": {
    "collapsed": true
   },
   "outputs": [],
   "source": [
    "def main():\n",
    "        name = input(\"Hello. What's your name?\")\n",
    "        valid_input = False\n",
    "        while not valid_input:\n",
    "            valid_input, age = validate_age(name)\n",
    "            game = FrogWorld if age < 18 else WizardWorld\n",
    "            enviroment = GameEnviroment(game(name))\n",
    "            enviroment.play()\n"
   ]
  },
  {
   "cell_type": "markdown",
   "metadata": {},
   "source": [
    "抽象工厂实现（abstrac_factory.py）的完整代码如下："
   ]
  },
  {
   "cell_type": "code",
   "execution_count": 2,
   "metadata": {
    "collapsed": false
   },
   "outputs": [
    {
     "name": "stdout",
     "output_type": "stream",
     "text": [
      "Hello. What's your name? Nick\n",
      "Welcome Nick. How old are you? 17\n",
      "\n",
      "\n",
      "\t------ Frog World -------\n",
      "Nick the Frog encounters a bug and eats it!\n"
     ]
    }
   ],
   "source": [
    "class Frog:\n",
    "\n",
    "    def __init__(self, name):\n",
    "        self.name = name\n",
    "\n",
    "    def __str__(self):\n",
    "        return self.name\n",
    "\n",
    "    def interact_with(self, obstacle):\n",
    "        print('{} the Frog encounters {} and {}!'.format(self,\n",
    "        obstacle, obstacle.action()))\n",
    "\n",
    "\n",
    "class Bug:\n",
    "\n",
    "    def __str__(self):\n",
    "        return 'a bug'\n",
    "\n",
    "    def action(self):\n",
    "        return 'eats it'\n",
    "\n",
    "\n",
    "class FrogWorld:\n",
    "\n",
    "    def __init__(self, name):\n",
    "        print(self)\n",
    "        self.player_name = name\n",
    "\n",
    "    def __str__(self):\n",
    "        return '\\n\\n\\t------ Frog World -------'\n",
    "\n",
    "    def make_character(self):\n",
    "        return Frog(self.player_name)\n",
    "\n",
    "    def make_obstacle(self):\n",
    "        return Bug()\n",
    "\n",
    "\n",
    "class Wizard:\n",
    "\n",
    "    def __init__(self, name):\n",
    "        self.name = name\n",
    "\n",
    "    def __str__(self):\n",
    "        return self.name\n",
    "\n",
    "\n",
    "    def interact_with(self, obstacle):\n",
    "        print(\n",
    "            '{} the Wizard battles against {} and {}!'.format(\n",
    "            self,\n",
    "            obstacle,\n",
    "            obstacle.action()))\n",
    "\n",
    "\n",
    "class Ork:\n",
    "\n",
    "    def __str__(self):\n",
    "        return 'an evil ork'\n",
    "\n",
    "    def action(self):\n",
    "        return 'kills it'\n",
    "\n",
    "\n",
    "class WizardWorld:\n",
    "\n",
    "    def __init__(self, name):\n",
    "        print(self)\n",
    "        self.player_name = name\n",
    "\n",
    "    def __str__(self):\n",
    "        return '\\n\\n\\t------ Wizard World -------'\n",
    "\n",
    "    def make_character(self):\n",
    "        return Wizard(self.player_name)\n",
    "\n",
    "    def make_obstacle(self):\n",
    "        return Ork()\n",
    "\n",
    "class GameEnvironment:\n",
    "\n",
    "    def __init__(self, factory):\n",
    "        self.hero = factory.make_character()\n",
    "        self.obstacle = factory.make_obstacle()\n",
    "\n",
    "    def play(self):\n",
    "        self.hero.interact_with(self.obstacle)\n",
    "\n",
    "def validate_age(name):\n",
    "    try:\n",
    "        age = input('Welcome {}. How old are you? '.format(name))\n",
    "        age = int(age)\n",
    "    except ValueError as err:\n",
    "        print(\"Age {} is invalid, please try again...\".format(age))\n",
    "        return (False, age)\n",
    "    return (True, age)\n",
    "\n",
    "def main():\n",
    "    name = input(\"Hello. What's your name? \")\n",
    "    valid_input = False\n",
    "    while not valid_input:\n",
    "        valid_input, age = validate_age(name)\n",
    "    game = FrogWorld if age < 18 else WizardWorld\n",
    "    environment = GameEnvironment(game(name))\n",
    "    environment.play()\n",
    "\n",
    "main()\n",
    "\n",
    "\n",
    "# Hello. What's your name? Nick\n",
    "# Welcome Nick. How old are you? 17\n",
    "\n",
    "\n",
    "# \t------ Frog World -------\n",
    "# Nick the Frog encounters a bug and eats it!\n"
   ]
  },
  {
   "cell_type": "markdown",
   "metadata": {},
   "source": [
    "试着扩展游戏使它更加复杂。你的思想有多远就可以走多远：更多的障碍物，更多的敌人，以及任何你喜欢的东西。"
   ]
  },
  {
   "cell_type": "markdown",
   "metadata": {},
   "source": [
    "##Abstract Factory versus Factory Method\n",
    "\n",
    "Let's look at the instances where we need to use the Abstract Factory or Factory Method.\n",
    "\n",
    "Use the Factory Method pattern when there is a need to decouple a client from a particular product it uses. Use the Factory Method to relieve a client of the responsibility of creating and configuring instances of a product.\n",
    "\n",
    "Use the Abstract Factory pattern when clients must be decoupled from the product classes. The Abstract Factory pattern can also enforce constraints specifying which classes must be used with others, creating independent families of objects.”\n"
   ]
  },
  {
   "cell_type": "markdown",
   "metadata": {},
   "source": [
    "## 总结\n",
    "\n",
    "本章中,我们学习了如何使用工厂方法和抽象工厂设计模式。两种模式都可以用于以下几种场景:(a)想要追踪对象的创建时,(b)想要将对象的创建与使用解耦时，(c)想要优化应用的性能和资源占用时。场景(c)在本章中并未详细说明，你也许可以将其作为一个练习。\n",
    "\n",
    "工厂方法设计模式的实现是一个不属于任何类的单一函数，负责单一种类对象(一个形状、一个连接点或者其他对象)的创建。我们看到工厂方法是如何与玩具制造相关联的，提到Django是如何将其用于创建不同表单字段的,并讨论了其他可能的应用案例。作为示例，我们实现了一个工厂方法，提供了访问XML和JSON文件的能力。\n",
    "\n",
    "抽象工厂设计模式的实现是同属于单个类的许多个工厂方法用于创建一系列种类的相关对象(一辆车的部件、一个游戏的环境,或者其他对象)。我们提到抽象工厂如何与汽车制造业相关联，Django程序包django_factory是如何利用抽象工厂创建干净的测试用例，并学习了抽象工厂的应用案例。作为抽象工厂实现的示例，我们完成了一个迷你游戏，演示了如何在单个类中使用多个相关工厂。"
   ]
  },
  {
   "cell_type": "code",
   "execution_count": null,
   "metadata": {
    "collapsed": true
   },
   "outputs": [],
   "source": []
  }
 ],
 "metadata": {
  "kernelspec": {
   "display_name": "Python 3",
   "language": "python",
   "name": "python3"
  },
  "language_info": {
   "codemirror_mode": {
    "name": "ipython",
    "version": 3
   },
   "file_extension": ".py",
   "mimetype": "text/x-python",
   "name": "python",
   "nbconvert_exporter": "python",
   "pygments_lexer": "ipython3",
   "version": "3.5.1"
  }
 },
 "nbformat": 4,
 "nbformat_minor": 0
}
